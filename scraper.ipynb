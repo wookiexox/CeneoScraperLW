{
 "cells": [
  {
   "cell_type": "markdown",
   "metadata": {},
   "source": [
    "# Ceneo Scraper"
   ]
  },
  {
   "cell_type": "markdown",
   "metadata": {},
   "source": [
    "## Struktura opinii w serwisie ceneo.pl\n",
    "\n",
    "|składowa|zmienna|selektor|\n",
    "|--------|-------|--------|\n",
    "|identyfikator opinii|opinion_id|[\"data-entry-id\"]|\n",
    "|autora|author|.user-post__author-name|\n",
    "|rekomendacje|recommandation|.user-post__author-recomendation > em|\n",
    "|liczbę gwiazdek|rating|.user-post__score-count|\n",
    "|treść opinii|content|.user-post__text|\n",
    "|listę zalet|pros|review-feature__title--positives ~ review-feature__item|\n",
    "|listę wad|cons|review-feature__title--negatives ~ review-feature__item|\n",
    "|dawa wystawienia|opinion_date|.user-post__published > time:nth-child(1)[\"datetime\"]|\n",
    "|data zakupu produktu|purchase_date|.user-post__published > time:nth-child(2)[\"datetime\"]|\n",
    "|ile osób uznało opinię za przydatną|likes|button.vote-yes > span|\n",
    "|ile osób uznało opinię za nieprzydatną|dislikes|button.vote-no > span|"
   ]
  },
  {
   "cell_type": "code",
   "execution_count": null,
   "metadata": {},
   "outputs": [],
   "source": [
    "selectors = {\n",
    "    'author': (\".user-post__author-name\",),\n",
    "    'recommandation': (\".user-post__author-recomendation > em\",),\n",
    "    'rating': (\".user-post__score-count\",),\n",
    "    'content': (\".user-post__text\",),\n",
    "    'pros': (\"div.review-feature__title--positives ~ review-feature__item\", None, True),\n",
    "    'cons': (\"div.review-feature__title--negatives ~ review-feature__item\", None, True),\n",
    "    'opinion_date': (\".user-post__published > time:nth-child(1)\", 'datetime'),\n",
    "    'purchase_date': (\".user-post__published > time:nth-child(2)\", 'datetime'),\n",
    "    'likes': (\"button.vote-yes > span\",),\n",
    "    'dislikes': (\"button.vote-no > span\",),\n",
    "    'opinion_id': (None, \"data-entry-id\"),\n",
    "}"
   ]
  },
  {
   "cell_type": "markdown",
   "metadata": {},
   "source": [
    "1. Import bibliotek"
   ]
  },
  {
   "cell_type": "code",
   "execution_count": null,
   "metadata": {},
   "outputs": [],
   "source": [
    "import os\n",
    "import json\n",
    "import requests\n",
    "from bs4 import BeautifulSoup\n",
    "from flask import Flask, render_template, request, session, send_file, jsonify, redirect, url_for\n",
    "import pandas as pd\n",
    "from openpyxl.workbook import Workbook\n",
    "from xlsxwriter import Workbook\n",
    "import io\n",
    "import matplotlib.pyplot as plt\n",
    "import base64"
   ]
  },
  {
   "cell_type": "markdown",
   "metadata": {},
   "source": [
    "2. Funkcja do ekstrakcji zawartości ze strony HTML"
   ]
  },
  {
   "cell_type": "code",
   "execution_count": null,
   "metadata": {},
   "outputs": [],
   "source": [
    "def extract(ancestor, selector, attribute = None, return_list = False):\n",
    "    if return_list:\n",
    "        if attribute:\n",
    "            return [tag[attribute].strip() for tag in ancestor.select(selector)]\n",
    "        return [tag.get_text().strip() for tag in ancestor.select(selector)]\n",
    "    if selector:\n",
    "        if attribute:\n",
    "            try:\n",
    "                return ancestor.select_one(selector)[attribute].strip()\n",
    "            except TypeError:\n",
    "                return None\n",
    "        try:\n",
    "            return ancestor.select_one(selector).get_text().strip()\n",
    "        except AttributeError:\n",
    "            return None\n",
    "    if attribute:\n",
    "        return ancestor[attribute].strip()\n",
    "    return ancestor.get_text().strip()"
   ]
  },
  {
   "cell_type": "markdown",
   "metadata": {},
   "source": [
    "3. Funkcja do wczytania pliku z pobranymi opiniami"
   ]
  },
  {
   "cell_type": "code",
   "execution_count": null,
   "metadata": {},
   "outputs": [],
   "source": [
    "def load_opinions(product_id):\n",
    "    with open(f'opinions/{product_id}.json', 'r', encoding='UTF-8') as f:\n",
    "        return json.load(f)"
   ]
  },
  {
   "cell_type": "markdown",
   "metadata": {},
   "source": [
    "4. Funkcja do analizy opinii (dane potrzebne do strony z listą produktów)"
   ]
  },
  {
   "cell_type": "code",
   "execution_count": null,
   "metadata": {},
   "outputs": [],
   "source": [
    "def analyze_opinions(opinions):\n",
    "    num_opinions = len(opinions)\n",
    "    num_pros = sum(len(opinion['pros']) for opinion in opinions if opinion['pros'])\n",
    "    num_cons = sum(len(opinion['cons']) for opinion in opinions if opinion['cons'])\n",
    "    try:\n",
    "        ratings = [float(opinion['rating'].split('/')[0].replace(',', '.')) for opinion in opinions if opinion['rating']]\n",
    "        avg_rating = sum(ratings) / len(ratings) if ratings else 0\n",
    "    except Exception as e:\n",
    "        print(f\"Error processing ratings: {e}\")\n",
    "        avg_rating = 0\n",
    "    return num_opinions, num_pros, num_cons, avg_rating"
   ]
  },
  {
   "cell_type": "markdown",
   "metadata": {},
   "source": [
    "5. Stworzenie linków do pobrania plików w formatach .csv, .xlsx, .json"
   ]
  },
  {
   "cell_type": "code",
   "execution_count": null,
   "metadata": {},
   "outputs": [],
   "source": [
    "def create_download_link(product_id, file_format):\n",
    "    opinions = load_opinions(product_id)\n",
    "    if file_format == 'csv':\n",
    "        df = pd.DataFrame(opinions)\n",
    "        output = io.BytesIO()\n",
    "        df.to_csv(output, index=False, encoding='utf-8-sig')\n",
    "        output.seek(0)\n",
    "        return output, 'text/csv', f'{product_id}.csv'\n",
    "    elif file_format == 'xlsx':\n",
    "        df = pd.DataFrame(opinions)\n",
    "        output = io.BytesIO()\n",
    "        with pd.ExcelWriter(output, engine='xlsxwriter') as writer:\n",
    "            df.to_excel(writer, index=False, sheet_name='Opinions')\n",
    "        output.seek(0)\n",
    "        return output, 'application/vnd.openxmlformats-officedocument.spreadsheetml.sheet', f'{product_id}.xlsx'\n",
    "    elif file_format == 'json':\n",
    "        output = io.BytesIO()\n",
    "        output.write(json.dumps(opinions, indent=4, ensure_ascii=False).encode('UTF-8'))\n",
    "        output.seek(0)\n",
    "        return output, 'application/json', f'{product_id}.json'"
   ]
  },
  {
   "cell_type": "markdown",
   "metadata": {},
   "source": [
    "6. Funkcja do tworzenia wykresu z rekomendacjami"
   ]
  },
  {
   "cell_type": "code",
   "execution_count": null,
   "metadata": {},
   "outputs": [],
   "source": [
    "def generate_recommendation_chart(opinions):\n",
    "    recommendation_data = {}\n",
    "    for opinion in opinions:\n",
    "        recommendation = opinion['recommandation']\n",
    "        if recommendation:\n",
    "            recommendation_data[recommendation] = recommendation_data.get(recommendation, 0) + 1\n",
    "    \n",
    "    fig, ax = plt.subplots()\n",
    "    ax.pie(recommendation_data.values(), labels=recommendation_data.keys(), autopct='%1.1f%%')\n",
    "    ax.set_title('Udział poszczególnych rekomendacji')\n",
    "\n",
    "    output = io.BytesIO()\n",
    "    plt.savefig(output, format='png')\n",
    "    plt.close(fig)\n",
    "    output.seek(0)\n",
    "    img = base64.b64encode(output.getvalue()).decode('utf-8')\n",
    "    return img"
   ]
  },
  {
   "cell_type": "markdown",
   "metadata": {},
   "source": [
    "7. Funkcja do tworzenia wykresu z ocenami"
   ]
  },
  {
   "cell_type": "code",
   "execution_count": null,
   "metadata": {},
   "outputs": [],
   "source": [
    "def generate_rating_chart(opinions):\n",
    "    rating_data = {}\n",
    "    for opinion in opinions:\n",
    "        rating = opinion['rating']\n",
    "        if rating:\n",
    "            stars = rating.split('/')[0]\n",
    "            rating_data[stars] = rating_data.get(stars, 0) + 1\n",
    "\n",
    "    fig, ax = plt.subplots()\n",
    "    ax.bar(rating_data.keys(), rating_data.values())\n",
    "    ax.set_title('Liczba opinii z poszczególnymi liczbami gwiazdek')\n",
    "\n",
    "    output = io.BytesIO()\n",
    "    plt.savefig(output, format='png')\n",
    "    plt.close(fig)\n",
    "    output.seek(0)\n",
    "    img = base64.b64encode(output.getvalue()).decode('utf-8')\n",
    "    return img"
   ]
  },
  {
   "cell_type": "markdown",
   "metadata": {},
   "source": [
    "8. Flask i routing"
   ]
  },
  {
   "cell_type": "code",
   "execution_count": null,
   "metadata": {},
   "outputs": [],
   "source": [
    "app = Flask(__name__)\n",
    "app.config['SECRET_KEY'] = 'loki'\n",
    "\n",
    "@app.route('/')\n",
    "@app.route('/home')\n",
    "def home_page():\n",
    "    return render_template('home.html')\n",
    "\n",
    "# strona do ekstrakcji opinii\n",
    "@app.route('/opinions', methods=['GET', 'POST'])\n",
    "def opinions_page():\n",
    "    data = []\n",
    "    product_id = None\n",
    "    error_message = None\n",
    "\n",
    "    # pobranie ID z formularza\n",
    "    if request.method == 'POST':\n",
    "        product_id = request.form['product_id']\n",
    "        if not product_id:\n",
    "            error_message = 'Nie wpisano kodu produktu'\n",
    "        else:\n",
    "            url = f'https://www.ceneo.pl/{product_id}#tab=reviews'\n",
    "            all_opinions = []\n",
    "\n",
    "            response = requests.get(url)\n",
    "            if response.status_code != 200:\n",
    "                error_message = f'Nie można pobrać opinii o produkcie \"{product_id}\" lub produkt nie posiada żadnych opinii. Sprawdź, czy produkt o ID \"{product_id}\" istnieje.'\n",
    "\n",
    "        # ekstrkacja wszystkich opinii\n",
    "        while url:\n",
    "            print(url)\n",
    "            response = requests.get(url)\n",
    "            page = BeautifulSoup(response.text, 'html.parser')\n",
    "            opinions = page.select('div.js_product-review')\n",
    "            for opinion in opinions:\n",
    "                single_opinion = {\n",
    "                    key: extract(opinion, *value)\n",
    "                    for key, value in selectors.items()\n",
    "                }\n",
    "                all_opinions.append(single_opinion)\n",
    "            try:\n",
    "                next_page_url = extract(page, 'a.pagination__next', 'href')\n",
    "                if next_page_url:\n",
    "                    url = 'https://www.ceneo.pl' + next_page_url\n",
    "                else:\n",
    "                    url = None\n",
    "            except TypeError:\n",
    "                url = None\n",
    "        \n",
    "        # tworzenie pliku JSON z opiniami o produkcie\n",
    "        if not error_message:\n",
    "            if not os.path.exists('opinions'):\n",
    "                os.mkdir('opinions')\n",
    "            with open(f'opinions/{product_id}.json', 'w', encoding='UTF-8') as jf:\n",
    "                json.dump(all_opinions, jf, indent=4, ensure_ascii=False)\n",
    "\n",
    "        # zmienna product_id dla sesji\n",
    "        session['product_id'] = product_id\n",
    "    \n",
    "    return render_template('opinions_extract.html', product_id=product_id, data=data, error_message=error_message)\n",
    "\n",
    "@app.route('/products', methods=['GET', 'POST'])\n",
    "def products_page():\n",
    "    path = 'opinions'\n",
    "    product_files = os.listdir(path)\n",
    "    products_data = []\n",
    "\n",
    "    for product_file in product_files:\n",
    "        product_id = product_file.split('.')[0]\n",
    "        opinions = load_opinions(product_id)\n",
    "        num_opinions, num_pros, num_cons, avg_rating = analyze_opinions(opinions)\n",
    "\n",
    "        products_data.append({\n",
    "            'product_id': product_id,\n",
    "            'num_opinions': num_opinions,\n",
    "            'num_pros': num_pros,\n",
    "            'num_cons': num_cons,\n",
    "            'avg_rating': avg_rating,\n",
    "            'csv_link': f'/download/{product_id}/csv',\n",
    "            'xlsx_link': f'/download/{product_id}/xlsx',\n",
    "            'json_link': f'/download/{product_id}/json',\n",
    "        })\n",
    "    \n",
    "    return render_template('products_list.html', products_data=products_data)\n",
    "\n",
    "@app.route('/product/<product_id>', methods=['GET', 'POST'])\n",
    "def product_page(product_id):\n",
    "    opinions = load_opinions(product_id)\n",
    "    df = pd.DataFrame(opinions)\n",
    "\n",
    "    if request.method == 'POST':\n",
    "        column = request.form.get('column')\n",
    "        filter_value = request.form.get('filter')\n",
    "        if column and filter_value:\n",
    "            df = df[df[column].str.contains(filter_value, na=False)]\n",
    "\n",
    "    sorted_column = request.args.get('sort')\n",
    "    if sorted_column:\n",
    "        df = df.sort_values(by=[sorted_column])\n",
    "\n",
    "    opinions = df.to_dict('records')\n",
    "    return render_template('product.html', product_id=product_id, opinions=opinions, columns=df.columns)\n",
    "\n",
    "@app.route('/product/<product_id>/charts')\n",
    "def product_charts_page(product_id):\n",
    "    opinions = load_opinions(product_id)\n",
    "    recommendation_chart = generate_recommendation_chart(opinions)\n",
    "    rating_chart = generate_rating_chart(opinions)\n",
    "    return render_template('product_charts.html', product_id=product_id, recommendation_chart=recommendation_chart, rating_chart=rating_chart)\n",
    "\n",
    "@app.route('/download/<product_id>/<file_format>')\n",
    "def download_file(product_id, file_format):\n",
    "    file_obj, mime_type, file_name = create_download_link(product_id, file_format)\n",
    "    return send_file(file_obj, mimetype=mime_type, as_attachment=True, download_name=file_name)\n",
    "\n",
    "@app.route('/author')\n",
    "def author_page():\n",
    "    return render_template('author.html')\n",
    "\n",
    "if __name__ == '__main__':\n",
    "    app.run(debug=True, use_reloader=False)"
   ]
  },
  {
   "cell_type": "code",
   "execution_count": null,
   "metadata": {},
   "outputs": [],
   "source": [
    "#product_id = '84514582'\n",
    "# product_id = input('Podaj kod produktu z Ceneo.pl: ')\n",
    "# url = f'https://www.ceneo.pl/{product_id}#tab=reviews'\n",
    "# print(url)"
   ]
  },
  {
   "cell_type": "markdown",
   "metadata": {},
   "source": [
    "4. Pobranie opinii o produkcie"
   ]
  },
  {
   "cell_type": "code",
   "execution_count": null,
   "metadata": {},
   "outputs": [],
   "source": [
    "# all_opinions = []\n",
    "# while(url): \n",
    "#     response = requests.get(url)\n",
    "#     page = BeautifulSoup(response.text, 'html.parser')\n",
    "#     opinions = page.select('div.js_product-review')\n",
    "#     for opinion in opinions:\n",
    "#         single_opinion = {\n",
    "#             key: extract(opinion, *value)\n",
    "#                 for key, value in selectors.items()\n",
    "#         }\n",
    "#         all_opinions.append(single_opinion)\n",
    "#     try:\n",
    "#         url = 'https://www.ceneo.pl' + extract(page, 'a.pagination__next', 'href')\n",
    "#     except TypeError:\n",
    "#         url = None"
   ]
  },
  {
   "cell_type": "markdown",
   "metadata": {},
   "source": [
    "5. Stworzenie folderu 'opinions' oraz pliku JSON zawierającego opinie"
   ]
  },
  {
   "cell_type": "code",
   "execution_count": null,
   "metadata": {},
   "outputs": [],
   "source": [
    "# if not os.path.exists('opinions'):\n",
    "#     os.mkdir('opinions')\n",
    "# with open(f'opinions/{product_id}.json', 'w', encoding='UTF-8') as jf:\n",
    "#     json.dump(all_opinions, jf, indent=4, ensure_ascii=False)"
   ]
  }
 ],
 "metadata": {
  "kernelspec": {
   "display_name": ".venv",
   "language": "python",
   "name": "python3"
  },
  "language_info": {
   "codemirror_mode": {
    "name": "ipython",
    "version": 3
   },
   "file_extension": ".py",
   "mimetype": "text/x-python",
   "name": "python",
   "nbconvert_exporter": "python",
   "pygments_lexer": "ipython3",
   "version": "3.12.3"
  }
 },
 "nbformat": 4,
 "nbformat_minor": 2
}
