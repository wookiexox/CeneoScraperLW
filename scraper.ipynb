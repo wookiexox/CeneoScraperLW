{
 "cells": [
  {
   "cell_type": "markdown",
   "metadata": {},
   "source": [
    "# Ceneo Scraper"
   ]
  },
  {
   "cell_type": "markdown",
   "metadata": {},
   "source": [
    "## Struktura opinii w serwisie ceneo.pl\n",
    "\n",
    "|składowa|zmienna|selektor|\n",
    "|--------|-------|--------|\n",
    "|identyfikator opinii|opinion_id|[\"data-entry-id\"]|\n",
    "|autora|author|.user-post__author-name|\n",
    "|rekomendacje|recommandation|.user-post__author-recomendation > em|\n",
    "|liczbę gwiazdek|rating|.user-post__score-count|\n",
    "|treść opinii|content|.user-post__text|\n",
    "|listę zalet|pros|review-feature__title--positives ~ review-feature__item|\n",
    "|listę wad|cons|review-feature__title--negatives ~ review-feature__item|\n",
    "|dawa wystawienia|opinion_date|.user-post__published > time:nth-child(1)[\"datetime\"]|\n",
    "|data zakupu produktu|purchase_date|.user-post__published > time:nth-child(2)[\"datetime\"]|\n",
    "|ile osób uznało opinię za przydatną|likes|button.vote-yes > span|\n",
    "|ile osób uznało opinię za nieprzydatną|dislikes|button.vote-no > span|"
   ]
  },
  {
   "cell_type": "code",
   "execution_count": 29,
   "metadata": {},
   "outputs": [],
   "source": [
    "selectors = {\n",
    "    'author': (\".user-post__author-name\",),\n",
    "    'recommandation': (\".user-post__author-recomendation > em\",),\n",
    "    'rating': (\".user-post__score-count\",),\n",
    "    'content': (\".user-post__text\",),\n",
    "    'pros': (\"div.review-feature__title--positives ~ review-feature__item\", None, True),\n",
    "    'cons': (\"div.review-feature__title--negatives ~ review-feature__item\", None, True),\n",
    "    'opinion_date': (\".user-post__published > time:nth-child(1)\", 'datetime'),\n",
    "    'purchase_date': (\".user-post__published > time:nth-child(2)\", 'datetime'),\n",
    "    'likes': (\"button.vote-yes > span\",),\n",
    "    'dislikes': (\"button.vote-no > span\",),\n",
    "    'opinion_id': (None, \"data-entry-id\"),\n",
    "}"
   ]
  },
  {
   "cell_type": "markdown",
   "metadata": {},
   "source": [
    "1. Import bibliotek"
   ]
  },
  {
   "cell_type": "code",
   "execution_count": 30,
   "metadata": {},
   "outputs": [],
   "source": [
    "import os\n",
    "import json\n",
    "import requests\n",
    "from bs4 import BeautifulSoup\n",
    "from flask import Flask, render_template"
   ]
  },
  {
   "cell_type": "markdown",
   "metadata": {},
   "source": [
    "2. Funkcja do ekstrakcji zawartości ze strony HTML"
   ]
  },
  {
   "cell_type": "code",
   "execution_count": 31,
   "metadata": {},
   "outputs": [],
   "source": [
    "def extract(ancestor, selector, attribute = None, return_list = False):\n",
    "    if return_list:\n",
    "        if attribute:\n",
    "            return [tag[attribute].strip() for tag in ancestor.select(selector)]\n",
    "        return [tag.get_text().strip() for tag in ancestor.select(selector)]\n",
    "    if selector:\n",
    "        if attribute:\n",
    "            try:\n",
    "                return ancestor.select_one(selector)[attribute].strip()\n",
    "            except TypeError:\n",
    "                return None\n",
    "        try:\n",
    "            return ancestor.select_one(selector).get_text().strip()\n",
    "        except AttributeError:\n",
    "            return None\n",
    "    if attribute:\n",
    "        return ancestor[attribute].strip()\n",
    "    return ancestor.get_text().strip()"
   ]
  },
  {
   "cell_type": "markdown",
   "metadata": {},
   "source": [
    "3. Adres pierwszej strony z opiniami o produkcie"
   ]
  },
  {
   "cell_type": "code",
   "execution_count": 32,
   "metadata": {},
   "outputs": [
    {
     "name": "stdout",
     "output_type": "stream",
     "text": [
      "https://www.ceneo.pl/108290707#tab=reviews\n"
     ]
    }
   ],
   "source": [
    "#product_id = '84514582'\n",
    "product_id = input('Podaj kod produktu z Ceneo.pl: ')\n",
    "url = f'https://www.ceneo.pl/{product_id}#tab=reviews'\n",
    "print(url)"
   ]
  },
  {
   "cell_type": "markdown",
   "metadata": {},
   "source": [
    "4. Pobranie opinii o produkcie"
   ]
  },
  {
   "cell_type": "code",
   "execution_count": 33,
   "metadata": {},
   "outputs": [],
   "source": [
    "all_opinions = []\n",
    "while(url): \n",
    "    response = requests.get(url)\n",
    "    page = BeautifulSoup(response.text, 'html.parser')\n",
    "    opinions = page.select('div.js_product-review')\n",
    "    for opinion in opinions:\n",
    "        single_opinion = {\n",
    "            key: extract(opinion, *value)\n",
    "                for key, value in selectors.items()\n",
    "        }\n",
    "        all_opinions.append(single_opinion)\n",
    "    try:\n",
    "        url = 'https://www.ceneo.pl' + extract(page, 'a.pagination__next', 'href')\n",
    "    except TypeError:\n",
    "        url = None"
   ]
  },
  {
   "cell_type": "markdown",
   "metadata": {},
   "source": [
    "5. Stworzenie folderu 'opinions' oraz pliku JSON zawierającego opinie"
   ]
  },
  {
   "cell_type": "code",
   "execution_count": 34,
   "metadata": {},
   "outputs": [],
   "source": [
    "if not os.path.exists('opinions'):\n",
    "    os.mkdir('opinions')\n",
    "with open(f'opinions/{product_id}.json', 'w', encoding='UTF-8') as jf:\n",
    "    json.dump(all_opinions, jf, indent=4, ensure_ascii=False)"
   ]
  },
  {
   "cell_type": "markdown",
   "metadata": {},
   "source": [
    "6. Routowanie stron korzystając z Flask"
   ]
  },
  {
   "cell_type": "code",
   "execution_count": 35,
   "metadata": {},
   "outputs": [],
   "source": [
    "# app = Flask(__name__)\n",
    "\n",
    "# @app.route('/')\n",
    "# @app.route('/home')\n",
    "# def home_page():\n",
    "#     return render_template('home.html')\n",
    "\n",
    "# @app.route('/opinions')\n",
    "# def opinions_page():\n",
    "#     with open(f'opinions/{product_id}.json', 'r', encoding='UTF-8') as jf:\n",
    "#         data = json.load(jf)\n",
    "#         jf.close()\n",
    "#     return render_template('opinions_extract.html', data=data)\n",
    "\n",
    "# @app.route('/products')\n",
    "# def products_page():\n",
    "#     return render_template('products_list.html')\n",
    "\n",
    "# @app.route('/author')\n",
    "# def author_page():\n",
    "#     return render_template('author.html')\n",
    "\n",
    "# if __name__ == '__main__':\n",
    "#     app.run(debug=True, use_reloader=False)\n"
   ]
  }
 ],
 "metadata": {
  "kernelspec": {
   "display_name": ".venv",
   "language": "python",
   "name": "python3"
  },
  "language_info": {
   "codemirror_mode": {
    "name": "ipython",
    "version": 3
   },
   "file_extension": ".py",
   "mimetype": "text/x-python",
   "name": "python",
   "nbconvert_exporter": "python",
   "pygments_lexer": "ipython3",
   "version": "3.12.3"
  }
 },
 "nbformat": 4,
 "nbformat_minor": 2
}
